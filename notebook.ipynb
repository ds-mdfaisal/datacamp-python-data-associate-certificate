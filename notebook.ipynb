{
 "cells": [
  {
   "cell_type": "markdown",
   "id": "8d0bcede-0826-475c-8678-72835c042b37",
   "metadata": {},
   "source": [
    "# Practical Exam: Spectrum Shades LLC\n",
    "Spectrum Shades LLC is a prominent supplier of concrete color solutions, offering a wide range of pigments and coloring systems used in various concrete applications, including decorative concrete, precast concrete, and concrete pavers. The company prides itself on delivering high-quality colorants that meet the unique needs of its diverse clientele, including contractors, architects, and construction companies.\n",
    "</br></br>\n",
    "The company has recently observed a growing number of customer complaints regarding inconsistent color quality in their products. The discrepancies have led to a decline in customer satisfaction and a potential increase in product returns.\n",
    "By identifying and mitigating the factors causing color variations, the company can enhance product reliability, reduce customer complaints, and minimize return rates.\n",
    "</br></br>\n",
    "You are part of the data analysis team tasked with providing actionable insights to help Spectrum Shades LLC address the issues of inconsistent color quality and improve customer satisfaction."
   ]
  },
  {
   "cell_type": "markdown",
   "id": "c0d5a3bb-bbae-4d39-a6c6-daa46c470347",
   "metadata": {},
   "source": [
    "# Task 1\n",
    "\n",
    "Before you can start any analysis, you need to confirm that the data is accurate and reflects what you expect to see. \n",
    "\n",
    "It is known that there are some issues with the `production_data` table, and the data team have provided the following data description. \n",
    "\n",
    "Write a query to ensure the data matches the description provided, including identifying and cleaning all invalid values. You must match all column names and description criteria.\n",
    "</br>\n",
    "\n",
    "- You should start with the data in the file \"production_data.csv\".\n",
    "- Your output should be a DataFrame named clean_data.\n",
    "- All column names and values should match the table below.\n",
    "</br>\n",
    "\n",
    "| Column Name             | Criteria                                                                                         |\n",
    "|--------------------------|--------------------------------------------------------------------------------------------------|\n",
    "| batch_id | Discrete. Identifier for each batch. Missing values are not possible. |\n",
    "| production_date | Date. Date when the batch was produced.|\n",
    "| raw_material_supplier | Categorical. Supplier of the raw materials. (1='national_supplier', 2='international_supplier'). <br> Missing values should be replaced with 'national_supplier'.|\n",
    "| pigment_type           | Nominal. Type of pigment used. ['type_a', 'type_b', 'type_c']. <br> Missing values should be replaced with 'other'. |\n",
    "| pigment_quantity       | Continuous. Amount of pigment added (in kilograms) (Range: 1 - 100). <br> Missing values should be replaced with median. |\n",
    "| mixing_time           | Continuous. Duration of the mixing process (in minutes). <br> Missing values should be replaced with mean, rounded to 2 decimal places. |\n",
    "| mixing_speed          | Categorical. Speed of the mixing process represented as categories: 'Low', 'Medium', 'High'.</br> Missing values should be replaced with 'Not Specified'. |\n",
    "| product_quality_score | Continuous. Overall quality score of the final product (rating on a scale of 1 to 10). <br> Missing values should be replaced with mean, rounded to 2 decimal places. |\n"
   ]
  },
  {
   "cell_type": "code",
   "execution_count": null,
   "id": "5ce18b54-29af-4beb-bc8c-79c4e21bcd52",
   "metadata": {
    "executionCancelledAt": null,
    "executionTime": 54,
    "lastExecutedAt": 1758694725434,
    "lastExecutedByKernel": "266ddf50-7b1b-472d-954a-1e61f427898d",
    "lastScheduledRunId": null,
    "lastSuccessfullyExecutedCode": "# Write your answer to Task 1 here\nimport pandas as pd\n\ndata = pd.read_csv(\"production_data.csv\")\n\ndata = data.dropna(subset=[\"batch_id\"])\n\ndata[\"production_date\"] = pd.to_datetime(data[\"production_date\"], errors=\"coerce\")\n\n\ndata[\"raw_material_supplier\"] = data[\"raw_material_supplier\"].fillna(1)\n\n\ndata[\"raw_material_supplier\"] = data[\"raw_material_supplier\"].replace({\n    \"national\": 1, \"National\": 1, \"NATIONAL\": 1,\n    \"international\": 2, \"International\": 2, \"INTERNATIONAL\": 2\n})\n\n\ndata[\"pigment_type\"] = data[\"pigment_type\"].str.lower().str.strip()  \nvalid_pigments = [\"type_a\", \"type_b\", \"type_c\"]\ndata[\"pigment_type\"] = data[\"pigment_type\"].where(data[\"pigment_type\"].isin(valid_pigments), \"other\")\n\n\ndata.loc[(data[\"pigment_quantity\"] < 1) | (data[\"pigment_quantity\"] > 100), \"pigment_quantity\"] = None\ndata[\"pigment_quantity\"] = data[\"pigment_quantity\"].fillna(data[\"pigment_quantity\"].median())\n\ndata[\"mixing_time\"] = data[\"mixing_time\"].fillna(round(data[\"mixing_time\"].mean(), 2))\n\ndata[\"mixing_speed\"] = data[\"mixing_speed\"].str.capitalize().str.strip()   \nvalid_speeds = [\"Low\", \"Medium\", \"High\"]\ndata[\"mixing_speed\"] = data[\"mixing_speed\"].where(data[\"mixing_speed\"].isin(valid_speeds), \"Not Specified\")\n\ndata[\"product_quality_score\"] = data[\"product_quality_score\"].fillna(round(data[\"product_quality_score\"].mean(), 2))\n\nclean_data = data.copy()\nprint(clean_data.dtypes)\nprint(clean_data.head())",
    "outputsMetadata": {
     "0": {
      "height": 374,
      "type": "stream"
     }
    }
   },
   "outputs": [
    {
     "name": "stdout",
     "output_type": "stream",
     "text": [
      "batch_id                          int64\n",
      "production_date          datetime64[ns]\n",
      "raw_material_supplier             int64\n",
      "pigment_type                     object\n",
      "pigment_quantity                float64\n",
      "mixing_time                     float64\n",
      "mixing_speed                     object\n",
      "product_quality_score           float64\n",
      "dtype: object\n",
      "   batch_id production_date  ...  mixing_speed product_quality_score\n",
      "0         1      2024-06-25  ...          High              7.165102\n",
      "1         2      2023-11-23  ...          High              6.849126\n",
      "2         3      2024-02-18  ...          High              5.661209\n",
      "3         4      2023-11-11  ...          High              6.991735\n",
      "4         5      2024-04-11  ...          High              7.095043\n",
      "\n",
      "[5 rows x 8 columns]\n"
     ]
    }
   ],
   "source": [
    "# Write your answer to Task 1 here\n",
    "import pandas as pd\n",
    "\n",
    "data = pd.read_csv(\"production_data.csv\")\n",
    "\n",
    "data = data.dropna(subset=[\"batch_id\"])\n",
    "\n",
    "data[\"production_date\"] = pd.to_datetime(data[\"production_date\"], errors=\"coerce\")\n",
    "\n",
    "\n",
    "data[\"raw_material_supplier\"] = data[\"raw_material_supplier\"].fillna(1)\n",
    "\n",
    "\n",
    "data[\"raw_material_supplier\"] = data[\"raw_material_supplier\"].replace({\n",
    "    \"national\": 1, \"National\": 1, \"NATIONAL\": 1,\n",
    "    \"international\": 2, \"International\": 2, \"INTERNATIONAL\": 2\n",
    "})\n",
    "\n",
    "\n",
    "data[\"pigment_type\"] = data[\"pigment_type\"].str.lower().str.strip()  \n",
    "valid_pigments = [\"type_a\", \"type_b\", \"type_c\"]\n",
    "data[\"pigment_type\"] = data[\"pigment_type\"].where(data[\"pigment_type\"].isin(valid_pigments), \"other\")\n",
    "\n",
    "\n",
    "data.loc[(data[\"pigment_quantity\"] < 1) | (data[\"pigment_quantity\"] > 100), \"pigment_quantity\"] = None\n",
    "data[\"pigment_quantity\"] = data[\"pigment_quantity\"].fillna(data[\"pigment_quantity\"].median())\n",
    "\n",
    "data[\"mixing_time\"] = data[\"mixing_time\"].fillna(round(data[\"mixing_time\"].mean(), 2))\n",
    "\n",
    "data[\"mixing_speed\"] = data[\"mixing_speed\"].str.capitalize().str.strip()   \n",
    "valid_speeds = [\"Low\", \"Medium\", \"High\"]\n",
    "data[\"mixing_speed\"] = data[\"mixing_speed\"].where(data[\"mixing_speed\"].isin(valid_speeds), \"Not Specified\")\n",
    "\n",
    "data[\"product_quality_score\"] = data[\"product_quality_score\"].fillna(round(data[\"product_quality_score\"].mean(), 2))\n",
    "\n",
    "clean_data = data.copy()\n",
    "print(clean_data.dtypes)\n",
    "print(clean_data.head())"
   ]
  },
  {
   "cell_type": "markdown",
   "id": "026b3c30-d3b0-4762-ae10-0f2880873bdc",
   "metadata": {},
   "source": [
    "# Task 2\n",
    "\n",
    "You want to understand how the supplier type and quantity of materials affect the final product attributes.\n",
    "\n",
    "Calculate the average `product_quality_score` and `pigment_quantity` grouped by `raw_material_supplier`.\n",
    "\n",
    "- You should start with the data in the file 'production_data.csv'. \n",
    "- Your output should be a DataFrame named aggregated_data.\n",
    "- It should include the three columns: `raw_material_supplier`, `avg_product_quality_score`, and `avg_pigment_quantity`.\n",
    "- Your answers should be rounded to 2 decimal places.\n"
   ]
  },
  {
   "cell_type": "code",
   "execution_count": null,
   "id": "6d47e440-c4ab-45cf-af40-53181764bac4",
   "metadata": {
    "executionCancelledAt": null,
    "executionTime": 53,
    "lastExecutedAt": 1758694725487,
    "lastExecutedByKernel": "266ddf50-7b1b-472d-954a-1e61f427898d",
    "lastScheduledRunId": null,
    "lastSuccessfullyExecutedCode": "# Write your answer to Task 2 here\nimport pandas as pd\n\ndata = pd.read_csv(\"production_data.csv\")\n\naggregated_data = (\n    data.groupby(\"raw_material_supplier\")[[\"product_quality_score\", \"pigment_quantity\"]]\n    .mean()\n    .reset_index()\n)\n\naggregated_data = aggregated_data.rename(\n    columns={\n        \"product_quality_score\": \"avg_product_quality_score\",\n        \"pigment_quantity\": \"avg_pigment_quantity\"\n    }\n)\n\naggregated_data[\"avg_product_quality_score\"] = aggregated_data[\"avg_product_quality_score\"].round(2)\naggregated_data[\"avg_pigment_quantity\"] = aggregated_data[\"avg_pigment_quantity\"].round(2)\n\n\nprint(aggregated_data)\n",
    "outputsMetadata": {
     "0": {
      "height": 80,
      "type": "stream"
     }
    }
   },
   "outputs": [
    {
     "name": "stdout",
     "output_type": "stream",
     "text": [
      "   raw_material_supplier  avg_product_quality_score  avg_pigment_quantity\n",
      "0                      1                       8.02                 44.73\n",
      "1                      2                       5.97                 34.91\n"
     ]
    }
   ],
   "source": [
    "# Write your answer to Task 2 here\n",
    "import pandas as pd\n",
    "\n",
    "data = pd.read_csv(\"production_data.csv\")\n",
    "\n",
    "aggregated_data = (\n",
    "    data.groupby(\"raw_material_supplier\")[[\"product_quality_score\", \"pigment_quantity\"]]\n",
    "    .mean()\n",
    "    .reset_index()\n",
    ")\n",
    "\n",
    "aggregated_data = aggregated_data.rename(\n",
    "    columns={\n",
    "        \"product_quality_score\": \"avg_product_quality_score\",\n",
    "        \"pigment_quantity\": \"avg_pigment_quantity\"\n",
    "    }\n",
    ")\n",
    "\n",
    "aggregated_data[\"avg_product_quality_score\"] = aggregated_data[\"avg_product_quality_score\"].round(2)\n",
    "aggregated_data[\"avg_pigment_quantity\"] = aggregated_data[\"avg_pigment_quantity\"].round(2)\n",
    "\n",
    "\n",
    "print(aggregated_data)\n"
   ]
  },
  {
   "cell_type": "markdown",
   "id": "cb821882-c29a-42e7-bff8-e281dc068a9b",
   "metadata": {},
   "source": [
    "# Task 3\n",
    "\n",
    "To get more insight into the factors behind product quality, you want to filter the data to see an average product quality score for a specified set of results.\n",
    "\n",
    "Identify the average `product_quality_score` for batches with a `raw_material_supplier` of 2 and a `pigment_quantity` greater than 35 kg.\n",
    "\n",
    "Write a query to return the average `avg_product_quality_score` for these filtered batches. Use the original production data table, not the output of Task 2.\n",
    "\n",
    "- You should start with the data in the file 'production_data.csv'. \n",
    "- Your output should be a DataFrame named pigment_data.\n",
    "- It should consist of a 1-row DataFrame with 3 columns: `raw_material_supplier`, `pigment_quantity`, and `avg_product_quality_score`.\n",
    "- Your answers should be rounded to 2 decimal places where appropriate.\n"
   ]
  },
  {
   "cell_type": "code",
   "execution_count": null,
   "id": "b30f8d6b-21cc-4de7-9c88-dffeb602f9d3",
   "metadata": {
    "executionCancelledAt": null,
    "executionTime": 51,
    "lastExecutedAt": 1758694725538,
    "lastExecutedByKernel": "266ddf50-7b1b-472d-954a-1e61f427898d",
    "lastScheduledRunId": null,
    "lastSuccessfullyExecutedCode": "# Write your answer to Task 3 here\n\nimport pandas as pd\n\ndata = pd.read_csv(\"production_data.csv\")\n\nfiltered = data[\n    (data[\"raw_material_supplier\"] == 2) & (data[\"pigment_quantity\"] > 35)\n]\n\navg_quality = round(filtered[\"product_quality_score\"].mean(), 2)\n\npigment_data = pd.DataFrame({\n    \"raw_material_supplier\": [2],\n    \"pigment_quantity\": [\">35\"],\n    \"avg_product_quality_score\": [avg_quality]\n})\n\nprint(pigment_data)\n",
    "outputsMetadata": {
     "0": {
      "height": 59,
      "type": "stream"
     }
    }
   },
   "outputs": [
    {
     "name": "stdout",
     "output_type": "stream",
     "text": [
      "   raw_material_supplier pigment_quantity  avg_product_quality_score\n",
      "0                      2              >35                       5.97\n"
     ]
    }
   ],
   "source": [
    "# Write your answer to Task 3 here\n",
    "\n",
    "import pandas as pd\n",
    "\n",
    "data = pd.read_csv(\"production_data.csv\")\n",
    "\n",
    "filtered = data[\n",
    "    (data[\"raw_material_supplier\"] == 2) & (data[\"pigment_quantity\"] > 35)\n",
    "]\n",
    "\n",
    "avg_quality = round(filtered[\"product_quality_score\"].mean(), 2)\n",
    "\n",
    "pigment_data = pd.DataFrame({\n",
    "    \"raw_material_supplier\": [2],\n",
    "    \"pigment_quantity\": [\">35\"],\n",
    "    \"avg_product_quality_score\": [avg_quality]\n",
    "})\n",
    "\n",
    "print(pigment_data)\n"
   ]
  },
  {
   "cell_type": "markdown",
   "id": "42718e48-205a-48ab-8ddc-a93857b71726",
   "metadata": {},
   "source": [
    "# Task 4\n",
    "\n",
    "In order to proceed with further analysis later, you need to analyze how various factors relate to product quality. Start by calculating the mean and standard deviation for the following columns: `pigment_quantity`, and `product_quality_score`. </br> These statistics will help in understanding the central tendency and variability of the data related to product quality.\n",
    "</br> </br >\n",
    "Next, calculate the Pearson correlation coefficient between the following variables: `pigment_quantity`, and `product_quality_score`.\n",
    "</br>\n",
    "These correlation coefficients will provide insights into the strength and direction of the relationships between the factors and overall product quality.\n",
    "\n",
    "\n",
    "- You should start with the data in the file 'production_data.csv'.\n",
    "- Calculate the mean and standard deviation for the columns pigment_quantity and product_quality_score as: `product_quality_score_mean`, `product_quality_score_sd`, `pigment_quantity_mean`, `pigment_quantity_sd`.\n",
    "- Calculate the Pearson correlation coefficient between pigment_quantity and product_quality_score as: `corr_coef`\n",
    "- Your output should be a DataFrame named product_quality.\n",
    "- It should include the columns: `product_quality_score_mean`, `product_quality_score_sd`, `pigment_quantity_mean`, `pigment_quantity_sd`, `corr_coef`.\n",
    "- Ensure that your answers are rounded to 2 decimal places.\n"
   ]
  },
  {
   "cell_type": "code",
   "execution_count": null,
   "id": "eb9b11fd-07d5-4a39-b2fa-afaa69285e3b",
   "metadata": {
    "executionCancelledAt": null,
    "executionTime": 57,
    "lastExecutedAt": 1758694725595,
    "lastExecutedByKernel": "266ddf50-7b1b-472d-954a-1e61f427898d",
    "lastScheduledRunId": null,
    "lastSuccessfullyExecutedCode": "# Write your answer to Task 4 here\nimport pandas as pd\n\ndata = pd.read_csv(\"production_data.csv\")\n\nmedian_pigment = data['pigment_quantity'].median()\n\ndata['pigment_quantity'] = data['pigment_quantity'].apply(\n\nlambda x: x if 1 <= x <= 100 else np.nan\n\n)\n\ndata['pigment_quantity'].fillna(median_pigment, inplace=True)\n\nmean_quality = round(data['product_quality_score'].mean(), 2)\n\ndata['product_quality_score'].fillna(mean_quality, inplace=True)\n\npigment_quantity_mean = round(data['pigment_quantity'].mean(), 2)\n\npigment_quantity_sd = round(data['pigment_quantity'].std(), 2)\n\nproduct_quality_score_mean = round(data['product_quality_score'].mean(), 2)\n\nproduct_quality_score_sd = round(data['product_quality_score'].std(), 2)\n\ncorr_coef = round(data['pigment_quantity'].corr(data['product_quality_score']), 2)\n\nproduct_quality = pd.DataFrame([{\n\n'product_quality_score_mean': product_quality_score_mean,\n\n'product_quality_score_sd': product_quality_score_sd,\n\n'pigment_quantity_mean': pigment_quantity_mean,\n\n'pigment_quantity_sd': pigment_quantity_sd,\n\n'corr_coef': corr_coef\n\n}])\n\nprint(product_quality)",
    "outputsMetadata": {
     "0": {
      "height": 101,
      "type": "stream"
     }
    }
   },
   "outputs": [
    {
     "name": "stdout",
     "output_type": "stream",
     "text": [
      "   product_quality_score_mean  ...  corr_coef\n",
      "0                        6.68  ...       0.49\n",
      "\n",
      "[1 rows x 5 columns]\n"
     ]
    }
   ],
   "source": [
    "# Write your answer to Task 4 here\n",
    "import pandas as pd\n",
    "\n",
    "data = pd.read_csv(\"production_data.csv\")\n",
    "\n",
    "median_pigment = data['pigment_quantity'].median()\n",
    "\n",
    "data['pigment_quantity'] = data['pigment_quantity'].apply(\n",
    "\n",
    "lambda x: x if 1 <= x <= 100 else np.nan\n",
    "\n",
    ")\n",
    "\n",
    "data['pigment_quantity'].fillna(median_pigment, inplace=True)\n",
    "\n",
    "mean_quality = round(data['product_quality_score'].mean(), 2)\n",
    "\n",
    "data['product_quality_score'].fillna(mean_quality, inplace=True)\n",
    "\n",
    "pigment_quantity_mean = round(data['pigment_quantity'].mean(), 2)\n",
    "\n",
    "pigment_quantity_sd = round(data['pigment_quantity'].std(), 2)\n",
    "\n",
    "product_quality_score_mean = round(data['product_quality_score'].mean(), 2)\n",
    "\n",
    "product_quality_score_sd = round(data['product_quality_score'].std(), 2)\n",
    "\n",
    "corr_coef = round(data['pigment_quantity'].corr(data['product_quality_score']), 2)\n",
    "\n",
    "product_quality = pd.DataFrame([{\n",
    "\n",
    "'product_quality_score_mean': product_quality_score_mean,\n",
    "\n",
    "'product_quality_score_sd': product_quality_score_sd,\n",
    "\n",
    "'pigment_quantity_mean': pigment_quantity_mean,\n",
    "\n",
    "'pigment_quantity_sd': pigment_quantity_sd,\n",
    "\n",
    "'corr_coef': corr_coef\n",
    "\n",
    "}])\n",
    "\n",
    "print(product_quality)"
   ]
  }
 ],
 "metadata": {
  "colab": {
   "name": "Welcome to DataCamp Workspaces.ipynb",
   "provenance": []
  },
  "editor": "DataLab",
  "kernelspec": {
   "display_name": "Python 3 (ipykernel)",
   "language": "python",
   "name": "python3"
  },
  "language_info": {
   "codemirror_mode": {
    "name": "ipython",
    "version": 3
   },
   "file_extension": ".py",
   "mimetype": "text/x-python",
   "name": "python",
   "nbconvert_exporter": "python",
   "pygments_lexer": "ipython3",
   "version": "3.8.10"
  }
 },
 "nbformat": 4,
 "nbformat_minor": 5
}
